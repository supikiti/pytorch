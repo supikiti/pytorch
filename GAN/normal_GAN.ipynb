{
 "cells": [
  {
   "cell_type": "code",
   "execution_count": 1,
   "metadata": {},
   "outputs": [
    {
     "name": "stdout",
     "output_type": "stream",
     "text": [
      "cuda is available!!!\n"
     ]
    }
   ],
   "source": [
    "import os  \n",
    "import pickle \n",
    "import numpy as np\n",
    "import torch \n",
    "import torch.nn as nn\n",
    "import torch.optim as optim\n",
    "from torch.autograd import Variable\n",
    "from torch.utils.data import DataLoader\n",
    "from torchvision import datasets, transforms\n",
    "from torchvision.utils import save_image\n",
    "\n",
    "import matplotlib.pyplot as plt\n",
    "\n",
    "cuda = torch.cuda.is_available()\n",
    "if cuda:\n",
    "    print('cuda is available!!!')"
   ]
  },
  {
   "cell_type": "code",
   "execution_count": 2,
   "metadata": {},
   "outputs": [],
   "source": [
    "class Generator(nn.Module):\n",
    "    \n",
    "    def __init__(self):\n",
    "        super(Generator, self).__init__()\n",
    "        \n",
    "        self.fc = nn.Sequential(\n",
    "            nn.Linear(64, 1024),\n",
    "            nn.BatchNorm1d(1024),\n",
    "            nn.ReLU(),\n",
    "            nn.Linear(1024, 128 * 7 * 7),\n",
    "            nn.BatchNorm1d(128 * 7 * 7),\n",
    "            nn.ReLU()\n",
    "        )\n",
    "        \n",
    "        self.deconv = nn.Sequential(\n",
    "            nn.ConvTranspose2d(128, 64, kernel_size=4, stride=2, padding=1),\n",
    "            nn.BatchNorm2d(64),\n",
    "            nn.ReLU(),\n",
    "            nn.ConvTranspose2d(64, 1, kernel_size=4, stride=2, padding=1),\n",
    "            nn.Sigmoid(),\n",
    "        )\n",
    "        \n",
    "        initialize_weights(self)\n",
    "    \n",
    "    def forward(self, input):\n",
    "        x = self.fc(input)\n",
    "        x = x.view(-1, 128, 7, 7)\n",
    "        x = self.deconv(x)\n",
    "        return x"
   ]
  },
  {
   "cell_type": "code",
   "execution_count": 3,
   "metadata": {},
   "outputs": [],
   "source": [
    "class Discriminator(nn.Module):\n",
    "    \n",
    "    def __init__(self):\n",
    "        super(Discriminator, self).__init__()\n",
    "        \n",
    "        self.conv = nn.Sequential(\n",
    "            nn.Conv2d(1, 64, kernel_size=4, stride=2, padding=1),\n",
    "            nn.LeakyReLU(0.2),\n",
    "            nn.Conv2d(64, 128, kernel_size=4, stride=2, padding=1),\n",
    "            nn.BatchNorm2d(128),\n",
    "            nn.LeakyReLU(0.2)\n",
    "        )\n",
    "        \n",
    "        self.fc = nn.Sequential(\n",
    "            nn.Linear(128 * 7 * 7, 1024),\n",
    "            nn.BatchNorm1d(1024),\n",
    "            nn.LeakyReLU(0.2),\n",
    "            nn.Linear(1024, 1),\n",
    "            nn.Sigmoid(),\n",
    "        )\n",
    "        \n",
    "        initialize_weights(self)\n",
    "        \n",
    "    def forward(self, input):\n",
    "        x = self.conv(input)\n",
    "        x = x.view(-1, 128 * 7 * 7)\n",
    "        x = self.fc(x)\n",
    "        return x"
   ]
  },
  {
   "cell_type": "code",
   "execution_count": 4,
   "metadata": {},
   "outputs": [],
   "source": [
    "def initialize_weights(model):\n",
    "    for m in model.modules():\n",
    "        if isinstance(m, nn.Conv2d):\n",
    "            m.weight.data.normal_(0, 0.02)\n",
    "            m.bias.data.zero_()\n",
    "        elif isinstance(m, nn.ConvTranspose2d):\n",
    "            m.weight.data.normal_(0, 0.02)\n",
    "            m.bias.data.zero_()\n",
    "        elif isinstance(m, nn.Linear):\n",
    "            m.weight.data.normal_(0, 0.02)\n",
    "            m.bias.data.zero_()"
   ]
  },
  {
   "cell_type": "code",
   "execution_count": 5,
   "metadata": {},
   "outputs": [],
   "source": [
    "batch_size = 128\n",
    "lr = 0.0002\n",
    "z_dim = 64\n",
    "num_epochs = 25\n",
    "sample_num = 16\n",
    "log_dir = './logs'"
   ]
  },
  {
   "cell_type": "code",
   "execution_count": 6,
   "metadata": {},
   "outputs": [],
   "source": [
    "G = Generator()\n",
    "D = Discriminator()\n",
    "if cuda:\n",
    "    G.cuda()\n",
    "    D.cuda()\n",
    "\n",
    "G_optimizer = optim.Adam(G.parameters(), lr=lr, betas=(0.5, 0.999))\n",
    "D_optimizer = optim.Adam(D.parameters(), lr=lr, betas=(0.5, 0.999))\n",
    "\n",
    "criterion = nn.BCELoss()"
   ]
  },
  {
   "cell_type": "code",
   "execution_count": 7,
   "metadata": {},
   "outputs": [],
   "source": [
    "transform = transforms.Compose([\n",
    "    transforms.ToTensor()\n",
    "])\n",
    "dataset = datasets.MNIST('data/mnist', train=True, download=True, transform=transform)\n",
    "data_loader = DataLoader(dataset, batch_size=batch_size, shuffle=True)"
   ]
  },
  {
   "cell_type": "code",
   "execution_count": 8,
   "metadata": {},
   "outputs": [],
   "source": [
    "def train(D, G, criterion, D_optimizer, G_optimizer, data_loader):\n",
    "    D.train()\n",
    "    G.train()\n",
    "    \n",
    "    #本物のラベルは1\n",
    "    y_real = Variable(torch.ones(batch_size, 1))\n",
    "    #偽物のラベルは0\n",
    "    y_fake = Variable(torch.zeros(batch_size, 1))\n",
    "    if cuda:\n",
    "        y_real = y_real.cuda()\n",
    "        y_fake = y_fake.cuda()\n",
    "    \n",
    "    D_running_loss = 0\n",
    "    G_running_loss = 0\n",
    "    for batch_idx, (real_images, _) in enumerate(data_loader):\n",
    "        #一番最後、バッチサイズに満たない場合は無視する\n",
    "        if real_images.size()[0] != batch_size:\n",
    "            break\n",
    "        \n",
    "        z = torch.rand((batch_size, z_dim))\n",
    "        if cuda:\n",
    "            real_images, z = real_images.cuda(), z.cuda()\n",
    "        real_images, z = Variable(real_images), Variable(z)\n",
    "        \n",
    "        #Discriminatorの更新\n",
    "        D_optimizer.zero_grad()\n",
    "        \n",
    "        #Discriminatorにとって本物画像の認識結果は1に近いほどよい\n",
    "        D_real = D(real_images)\n",
    "        D_real_loss = criterion(D_real, y_real)\n",
    "        \n",
    "        #DiscrimitorにとってGeneratorが生成した偽物画像の認識結果は0(偽物)に近いほどよい\n",
    "        # E[log(1 - D(G(z)))]\n",
    "        # fake_imagesを通じて勾配がGに伝わらないようにdetach()してとめる\n",
    "        fake_images = G(z)\n",
    "        D_fake = D(fake_images.detach())\n",
    "        D_fake_loss = criterion(D_fake, y_fake)\n",
    "        \n",
    "        #2つのlossの和を最小化する\n",
    "        D_loss = D_real_loss + D_fake_loss\n",
    "        D_loss.backward()\n",
    "        D_optimizer.step()\n",
    "        D_running_loss += D_loss.data[0]\n",
    "        \n",
    "        #Generatorの更新\n",
    "        G_optimizer.zero_grad()\n",
    "        \n",
    "        #GeneratorにとってGeneratorの画像が生成した画像の認識結果が1に近いほどよい\n",
    "        #E[log(D(G(z)))]\n",
    "        fake_images = G(z)\n",
    "        D_fake = D(fake_images)\n",
    "        G_loss = criterion(D_fake, y_real)\n",
    "        G_loss.backward()\n",
    "        G_optimizer.step()\n",
    "        G_running_loss += G_loss.data[0]\n",
    "    \n",
    "    D_running_loss /= len(data_loader)\n",
    "    G_running_loss /= len(data_loader)\n",
    "    \n",
    "    return D_running_loss, G_running_loss"
   ]
  },
  {
   "cell_type": "code",
   "execution_count": 9,
   "metadata": {},
   "outputs": [],
   "source": [
    "def generate(epoch, G, log_dir='logs'):\n",
    "    G.eval()\n",
    "    \n",
    "    if not os.path.exists(log_dir):\n",
    "        os.makedirs(log_dir)\n",
    "\n",
    "    # 生成のもとになる乱数を生成\n",
    "    sample_z = torch.rand((64, z_dim))\n",
    "    if cuda:\n",
    "        sample_z = sample_z.cuda()\n",
    "    sample_z = Variable(sample_z, volatile=True)\n",
    "    \n",
    "    # Generatorでサンプル生成\n",
    "    samples = G(sample_z).data.cpu()\n",
    "    save_image(samples, os.path.join(log_dir, 'epoch_%03d.png' % (epoch)))"
   ]
  },
  {
   "cell_type": "code",
   "execution_count": 10,
   "metadata": {},
   "outputs": [
    {
     "name": "stderr",
     "output_type": "stream",
     "text": [
      "/home/nakamura-t/anaconda3/lib/python3.6/site-packages/ipykernel_launcher.py:43: UserWarning: invalid index of a 0-dim tensor. This will be an error in PyTorch 0.5. Use tensor.item() to convert a 0-dim tensor to a Python number\n",
      "/home/nakamura-t/anaconda3/lib/python3.6/site-packages/ipykernel_launcher.py:55: UserWarning: invalid index of a 0-dim tensor. This will be an error in PyTorch 0.5. Use tensor.item() to convert a 0-dim tensor to a Python number\n"
     ]
    },
    {
     "name": "stdout",
     "output_type": "stream",
     "text": [
      "epoch 1, D_loss: 0.7929 G_loss: 1.3308\n"
     ]
    },
    {
     "name": "stderr",
     "output_type": "stream",
     "text": [
      "/home/nakamura-t/anaconda3/lib/python3.6/site-packages/ipykernel_launcher.py:11: UserWarning: volatile was removed and now has no effect. Use `with torch.no_grad():` instead.\n",
      "  # This is added back by InteractiveShellApp.init_path()\n"
     ]
    },
    {
     "name": "stdout",
     "output_type": "stream",
     "text": [
      "epoch 2, D_loss: 0.8734 G_loss: 1.3232\n",
      "epoch 3, D_loss: 0.9083 G_loss: 1.2748\n",
      "epoch 4, D_loss: 0.9001 G_loss: 1.3097\n",
      "epoch 5, D_loss: 0.8885 G_loss: 1.3446\n",
      "epoch 6, D_loss: 0.8719 G_loss: 1.3854\n",
      "epoch 7, D_loss: 0.8603 G_loss: 1.4156\n",
      "epoch 8, D_loss: 0.8335 G_loss: 1.4664\n",
      "epoch 9, D_loss: 0.8304 G_loss: 1.4932\n",
      "epoch 10, D_loss: 0.7930 G_loss: 1.5485\n",
      "epoch 11, D_loss: 0.7754 G_loss: 1.5911\n",
      "epoch 12, D_loss: 0.7490 G_loss: 1.6517\n",
      "epoch 13, D_loss: 0.7458 G_loss: 1.6954\n",
      "epoch 14, D_loss: 0.7220 G_loss: 1.7374\n",
      "epoch 15, D_loss: 0.6937 G_loss: 1.7836\n",
      "epoch 16, D_loss: 0.6796 G_loss: 1.8451\n",
      "epoch 17, D_loss: 0.6651 G_loss: 1.8963\n",
      "epoch 18, D_loss: 0.6386 G_loss: 1.9395\n",
      "epoch 19, D_loss: 0.6282 G_loss: 1.9944\n",
      "epoch 20, D_loss: 0.6083 G_loss: 2.0368\n",
      "epoch 21, D_loss: 0.5946 G_loss: 2.0860\n",
      "epoch 22, D_loss: 0.5717 G_loss: 2.1492\n",
      "epoch 23, D_loss: 0.5751 G_loss: 2.1707\n",
      "epoch 24, D_loss: 0.5753 G_loss: 2.1931\n",
      "epoch 25, D_loss: 0.5495 G_loss: 2.2532\n"
     ]
    }
   ],
   "source": [
    "history = {}\n",
    "history['D_loss'] = []\n",
    "history['G_loss'] = []\n",
    "for epoch in range(num_epochs):\n",
    "    D_loss, G_loss = train(D, G, criterion, D_optimizer, G_optimizer, data_loader)\n",
    "    \n",
    "    print('epoch %d, D_loss: %.4f G_loss: %.4f' % (epoch + 1, D_loss, G_loss))\n",
    "    history['D_loss'].append(D_loss)\n",
    "    history['G_loss'].append(G_loss)\n",
    "    \n",
    "    # 特定のエポックでGeneratorから画像を生成してモデルも保存\n",
    "    if epoch == 0 or epoch == 9 or epoch == 24:\n",
    "        generate(epoch + 1, G, log_dir)\n",
    "        torch.save(G.state_dict(), os.path.join(log_dir, 'G_%03d.pth' % (epoch + 1)))\n",
    "        torch.save(D.state_dict(), os.path.join(log_dir, 'D_%03d.pth' % (epoch + 1)))\n",
    "\n",
    "# 学習履歴を保存\n",
    "with open(os.path.join(log_dir, 'history.pkl'), 'wb') as f:\n",
    "    pickle.dump(history, f)\n"
   ]
  },
  {
   "cell_type": "code",
   "execution_count": 11,
   "metadata": {},
   "outputs": [
    {
     "data": {
      "image/png": "[encoded data removed]",
      "text/plain": [
       "<Figure size 432x288 with 1 Axes>"
      ]
     },
     "metadata": {},
     "output_type": "display_data"
    }
   ],
   "source": [
    "with open(os.path.join(log_dir, 'history.pkl'), 'rb') as f:\n",
    "    history = pickle.load(f)\n",
    "\n",
    "D_loss, G_loss = history['D_loss'], history['G_loss']\n",
    "plt.plot(D_loss, label='D_loss')\n",
    "plt.plot(G_loss, label='G_loss')\n",
    "plt.xlabel('epoch')\n",
    "plt.ylabel('loss')\n",
    "plt.legend()\n",
    "plt.grid()\n"
   ]
  },
  {
   "cell_type": "code",
   "execution_count": null,
   "metadata": {},
   "outputs": [],
   "source": []
  }
 ],
 "metadata": {
  "kernelspec": {
   "display_name": "Python 3",
   "language": "python",
   "name": "python3"
  },
  "language_info": {
   "codemirror_mode": {
    "name": "ipython",
    "version": 3
   },
   "file_extension": ".py",
   "mimetype": "text/x-python",
   "name": "python",
   "nbconvert_exporter": "python",
   "pygments_lexer": "ipython3",
   "version": "3.6.5"
  }
 },
 "nbformat": 4,
 "nbformat_minor": 2
}
